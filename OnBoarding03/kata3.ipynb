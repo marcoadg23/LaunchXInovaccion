{
 "cells": [
  {
   "cell_type": "markdown",
   "metadata": {},
   "source": [
    "Para este ejercicio, escribirás una lógica condicional que imprima una advertencia si un asteroide se acerca a la Tierra demasiado rápido. La velocidad del asteroide varía dependiendo de lo cerca que esté del sol, y cualquier velocidad superior a 25 kilómetros por segundo (km/s) merece una advertencia.\n",
    "\n",
    "Un asteroide se acerca, y viaja a una velocidad de 49 km/s."
   ]
  },
  {
   "cell_type": "code",
   "execution_count": 3,
   "metadata": {},
   "outputs": [
    {
     "name": "stdout",
     "output_type": "stream",
     "text": [
      "¡Advertencia! Se acerca un asteroide con riesgo de colisión a la Tierra\n"
     ]
    }
   ],
   "source": [
    "velAsteroide = 49\n",
    "\n",
    "if velAsteroide > 25 :\n",
    "\n",
    "    print('¡Advertencia! Se acerca un asteroide con riesgo de colisión a la Tierra')\n",
    "\n",
    "else: \n",
    "\n",
    "    print('Todo en orden hoy')"
   ]
  },
  {
   "cell_type": "markdown",
   "metadata": {},
   "source": [
    "Si un asteroide entra en la atmósfera de la Tierra a una velocidad mayor o igual a 20 km/s, a veces produce un rayo de luz que se puede ver desde la Tierra. Escribe la lógica condicional que usa declaraciones if, else, y elif para alertar a las personas de todo el mundo que deben buscar un asteroide en el cielo. ¡Hay uno que se dirige a la tierra ahora a una velocidad de 19 km/s!"
   ]
  },
  {
   "cell_type": "code",
   "execution_count": 2,
   "metadata": {},
   "outputs": [
    {
     "name": "stdout",
     "output_type": "stream",
     "text": [
      "Un asteroide entro a la atmósfera, pero es posible que no se pueda ver\n"
     ]
    }
   ],
   "source": [
    "velAsteroide2 = 19\n",
    "\n",
    "if velAsteroide2 >= 20:\n",
    "\n",
    "    print('Un asteroide entro en la atmósfera, si prestas atención en el cielo, puede se que veas un rayo de luz.')\n",
    "\n",
    "elif velAsteroide2 < 20:\n",
    "\n",
    "    print('Un asteroide entro a la atmósfera, pero es posible que no se pueda ver :(')"
   ]
  },
  {
   "cell_type": "markdown",
   "metadata": {},
   "source": [
    "En este ejercicio, aprenderás información más matizada sobre cuándo los asteroides representan un peligro para la Tierra, y utilizarás esa información para mejorar nuestro sistema de advertencia. Aquí está la nueva información que necesitas saber:\n",
    "\n",
    "*Los asteroides de menos de 25 metros en su dimensión más grande probablemente se quemarán a medida que entren en la atmósfera de la Tierra.\n",
    "\n",
    "Si una pieza de un asteroide que es más grande que 25 metros pero más pequeña que 1000 metros golpeara la Tierra, causaría mucho daño.\n",
    "También discutimos en el ejercicio anterior que:\n",
    "\n",
    "La velocidad del asteroide varía en función de lo cerca que esté del sol, y cualquier velocidad superior a 25 kilómetros por segundo (km/s) merece una advertencia.\n",
    "Si un asteroide entra en la atmósfera de la Tierra a una velocidad mayor o igual a 20 km/s, a veces produce un rayo de luz que se puede ver desde la Tierra.\n",
    "Usando toda esta información, escribe un programa que emita la advertencia o información correcta a la gente de la Tierra, según la velocidad y el tamaño de un asteroide. Utiliza instrucciones if, else, y elif, así como los operadores and y or."
   ]
  },
  {
   "cell_type": "code",
   "execution_count": 7,
   "metadata": {},
   "outputs": [
    {
     "name": "stdout",
     "output_type": "stream",
     "text": [
      "Será un día normal\n"
     ]
    }
   ],
   "source": [
    "velAsteroide3 = 12\n",
    "tamañoAsteroide = 20\n",
    "\n",
    "if velAsteroide3 >= 25:\n",
    "\n",
    "    if tamañoAsteroide <= 25:\n",
    "        print('¡Alerta! Un asteroide se acerca a gran velocidad a la tierra, pero se quemará al entrar a la atmosfera, se podrá ver una luz en el cielo')\n",
    "\n",
    "    elif tamañoAsteroide  > 25 and tamañoAsteroide < 1000:\n",
    "        print('¡ALERTA! Un asteroide impactará la Tierra y causara mucho daño en la zona')\n",
    "\n",
    "    elif tamañoAsteroide > 1000:\n",
    "        print('¡Es el fin!')\n",
    "\n",
    "elif velAsteroide3 < 25:\n",
    "\n",
    "    if velAsteroide3 < 20 and tamañoAsteroide <= 25:\n",
    "\n",
    "        print('Será un día normal')\n",
    "\n",
    "    elif velAsteroide3 >= 20 and velAsteroide3 < 25  :\n",
    "\n",
    "        print('Se podrá apreciar un asteroide quemandose en el cielo')\n",
    "\n",
    "    \n"
   ]
  }
 ],
 "metadata": {
  "interpreter": {
   "hash": "87c6c945da5953bed5b6e5472a9e94999d654c7c25317e1b81d90c8e6f71fc16"
  },
  "kernelspec": {
   "display_name": "Python 3.10.2 ('Kata2': venv)",
   "language": "python",
   "name": "python3"
  },
  "language_info": {
   "codemirror_mode": {
    "name": "ipython",
    "version": 3
   },
   "file_extension": ".py",
   "mimetype": "text/x-python",
   "name": "python",
   "nbconvert_exporter": "python",
   "pygments_lexer": "ipython3",
   "version": "3.10.2"
  },
  "orig_nbformat": 4
 },
 "nbformat": 4,
 "nbformat_minor": 2
}
