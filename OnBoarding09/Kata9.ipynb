{
 "cells": [
  {
   "cell_type": "markdown",
   "metadata": {},
   "source": [
    "Ejercicio: Uso de funciones en Python\n",
    "------------------------\n",
    "Ejercicio 1: Trabajar con argumentos en funciones\n",
    "\n",
    "Comienza por crear una función que necesite tres lecturas de combustible y devuelva un informe:"
   ]
  },
  {
   "cell_type": "code",
   "execution_count": 16,
   "metadata": {},
   "outputs": [],
   "source": [
    "# Función para leer 3 tanques de combustible y muestre el promedio\n",
    "def reporte(tanque1,tanque2,tanque3):\n",
    "    promedio = (tanque1+tanque2+tanque3)/3\n",
    "    return f\"\"\"Reporte de combustible \n",
    "    Promedio: {promedio} \n",
    "    Tanque 1: {tanque1} % \n",
    "    Tanque 2: {tanque2} % \n",
    "    Tanque 3: {tanque3} %\"\"\"\n"
   ]
  },
  {
   "cell_type": "markdown",
   "metadata": {},
   "source": [
    "Ahora que hemos definido la función de informes, vamos a comprobarlo. Para esta misión, los tanques no están llenos:"
   ]
  },
  {
   "cell_type": "code",
   "execution_count": 17,
   "metadata": {},
   "outputs": [
    {
     "name": "stdout",
     "output_type": "stream",
     "text": [
      "Reporte de combustible \n",
      "    Promedio: 60.666666666666664 \n",
      "    Tanque 1: 67 % \n",
      "    Tanque 2: 80 % \n",
      "    Tanque 3: 35 %\n"
     ]
    }
   ],
   "source": [
    "# Llamamos a la función que genera el reporte print(funcion(tanque1, tanque2, tanque3))\n",
    "print(reporte(67,80,35))"
   ]
  },
  {
   "cell_type": "markdown",
   "metadata": {},
   "source": [
    "En lugar de simplemente crear el informe, la función también está calculando el promedio. Mejora la legibilidad extrayendo el cálculo promedio de la función en una nueva función para que el promedio se pueda hacer de forma independiente:"
   ]
  },
  {
   "cell_type": "code",
   "execution_count": 20,
   "metadata": {},
   "outputs": [
    {
     "name": "stdout",
     "output_type": "stream",
     "text": [
      "56.0\n"
     ]
    }
   ],
   "source": [
    "# Función promedio \n",
    "def prom(valores):\n",
    "    total = sum(valores)\n",
    "    items = len(valores)\n",
    "\n",
    "    nuevoPromedio = total/items\n",
    "\n",
    "    return nuevoPromedio\n",
    "\n",
    "print(prom([56,75,37]))\n",
    "\n"
   ]
  },
  {
   "cell_type": "markdown",
   "metadata": {},
   "source": [
    "Ahora actualiza la función de informes para llamando a la nueva función del promedio:"
   ]
  },
  {
   "cell_type": "code",
   "execution_count": 23,
   "metadata": {},
   "outputs": [
    {
     "name": "stdout",
     "output_type": "stream",
     "text": [
      "Reporte de combustible \n",
      "    Promedio: 70.33333333333333 \n",
      "    Tanque 1: 68 % \n",
      "    Tanque 2: 98 % \n",
      "    Tanque 3: 45 %\n"
     ]
    }
   ],
   "source": [
    "# Actualiza la función\n",
    "\n",
    "def reporte(tanque1,tanque2,tanque3):\n",
    "    promedio = prom([tanque1,tanque2,tanque3])\n",
    "    return f\"\"\"Reporte de combustible \n",
    "    Promedio: {promedio} \n",
    "    Tanque 1: {tanque1} % \n",
    "    Tanque 2: {tanque2} % \n",
    "    Tanque 3: {tanque3} %\"\"\"\n",
    "\n",
    "def prom(valores):\n",
    "    total = sum(valores)\n",
    "    items = len(valores)\n",
    "\n",
    "    nuevoPromedio = total/items\n",
    "\n",
    "    return nuevoPromedio\n",
    "\n",
    "print(reporte(68,98,45))"
   ]
  },
  {
   "cell_type": "markdown",
   "metadata": {},
   "source": [
    "Ejercicio 2: Trabajo con argumentos de palabra clave\n",
    "-----------------------\n",
    "Ejercicio : Trabajar con argumentos de palabras clave en funciones"
   ]
  },
  {
   "cell_type": "markdown",
   "metadata": {},
   "source": [
    "En este ejercicio, construirás un informe de cohete que requiere varias piezas de información, como el tiempo hasta el destino, el combustible a la izquierda y el nombre del destino. Comienza por crear una función que creará un informe preciso de la misión:"
   ]
  },
  {
   "cell_type": "code",
   "execution_count": 26,
   "metadata": {},
   "outputs": [
    {
     "name": "stdout",
     "output_type": "stream",
     "text": [
      "\n",
      "    Reporte de Vuelo:\n",
      "    Destino: Marte\n",
      "    Tiempo de viaje: 868 minutos\n",
      "    Tanque principal: 80000\n",
      "    Tanque de reserva: 50000\n",
      "    \n"
     ]
    }
   ],
   "source": [
    "# Función con un informe preciso de la misión. Considera hora de prelanzamiento, tiempo de vuelo, destino, tanque externo y tanque interno\n",
    "def reporte2(horaLanzamiento, tiempoVuelo, destino, tanqueExterno, tanqueInterno):\n",
    "    return f\"\"\"\n",
    "    Reporte de Vuelo:\n",
    "    Destino: {destino}\n",
    "    Tiempo de viaje: {horaLanzamiento + tiempoVuelo} minutos\n",
    "    Tanque principal: {tanqueInterno}\n",
    "    Tanque de reserva: {tanqueExterno}\n",
    "    \"\"\"\n",
    "\n",
    "print(reporte2(16,852,'Marte',50000,80000))\n"
   ]
  },
  {
   "cell_type": "markdown",
   "metadata": {},
   "source": [
    "La función es problemática porque no se puede adaptar para minutos adicionales o tanques adicionales de combustible. Hazlo más flexible permitiendo cualquier número de pasos basados en el tiempo y cualquier número de tanques. En lugar de usar *args y **kwargs, aprovecha el hecho de que puedes usar cualquier nombre que desees. Asegurate que la función sea más legible mediante el uso de nombres de variables que están asociados con las entradas, como *minutes y **fuel_reservoirs:"
   ]
  },
  {
   "cell_type": "code",
   "execution_count": 27,
   "metadata": {},
   "outputs": [
    {
     "name": "stdout",
     "output_type": "stream",
     "text": [
      "\n",
      "    Reporte de Vuelo a Luna\n",
      "    Destino: Luna\n",
      "    Tiempo de viaje: 1006 minutos\n",
      "    Total de combustible para el viaje: 16000 litros de hidrogeno\n",
      "    \n"
     ]
    }
   ],
   "source": [
    "# Escribe tu nueva función de reporte considerando lo anterior\n",
    "def reporteMejorado(destino, *minutosDeViaje, **tanquesDeCombustible):\n",
    "\n",
    "    return f\"\"\"\n",
    "    Reporte de Vuelo a {destino}\n",
    "    Destino: {destino}\n",
    "    Tiempo de viaje: {sum(minutosDeViaje)} minutos\n",
    "    Total de combustible para el viaje: {sum(tanquesDeCombustible.values())} litros de hidrogeno\n",
    "    \"\"\"\n",
    "print(reporteMejorado('Luna', 156,800,50, principal=7000, secundario=6000, deEmergencia = 3000))"
   ]
  },
  {
   "cell_type": "markdown",
   "metadata": {},
   "source": [
    "Debido a que el combustible que queda en los tanques es específico de cada tanque, actualiza la función para usar el nombre de cada tanque en el informe:"
   ]
  },
  {
   "cell_type": "code",
   "execution_count": 40,
   "metadata": {},
   "outputs": [
    {
     "name": "stdout",
     "output_type": "stream",
     "text": [
      "\n",
      "    Reporte de Vuelo a Luna\n",
      "    Destino: Luna\n",
      "    Tiempo de viaje: 1006 minutos\n",
      "    Total de combustible para el viaje: 16000 litros de hidrogeno\n",
      "    \n",
      "        principal : 7000 litros\n",
      "        secundario : 6000 litros\n",
      "        deEmergencia : 3000 litros\n"
     ]
    }
   ],
   "source": [
    "# Escribe tu nueva función\n",
    "def reporteMejorado(destino, *minutosDeViaje, **tanquesDeCombustible):\n",
    "\n",
    "    reporteDestino= f\"\"\"\n",
    "    Reporte de Vuelo a {destino}\n",
    "    Destino: {destino}\n",
    "    Tiempo de viaje: {sum(minutosDeViaje)} minutos\n",
    "    Total de combustible para el viaje: {sum(tanquesDeCombustible.values())} litros de hidrogeno\n",
    "    \"\"\"\n",
    "    reporteTanques=''\n",
    "    for nombre,capacidad in tanquesDeCombustible.items():\n",
    "        reporteTanques =reporteTanques + f\"\"\"\n",
    "        {nombre} : {capacidad} litros\"\"\"\n",
    "\n",
    "    return reporteDestino+reporteTanques\n",
    "\n",
    "print(reporteMejorado('Luna', 156,800,50, principal=7000, secundario=6000, deEmergencia = 3000))"
   ]
  }
 ],
 "metadata": {
  "interpreter": {
   "hash": "081837b0d89a1a11c7e12cfb777b4296fc9d5cdb4add819a1b66bd9acaab463f"
  },
  "kernelspec": {
   "display_name": "Python 3.10.2 64-bit",
   "language": "python",
   "name": "python3"
  },
  "language_info": {
   "codemirror_mode": {
    "name": "ipython",
    "version": 3
   },
   "file_extension": ".py",
   "mimetype": "text/x-python",
   "name": "python",
   "nbconvert_exporter": "python",
   "pygments_lexer": "ipython3",
   "version": "3.10.2"
  },
  "orig_nbformat": 4
 },
 "nbformat": 4,
 "nbformat_minor": 2
}
